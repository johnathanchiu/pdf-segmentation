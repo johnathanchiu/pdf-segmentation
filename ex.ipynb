{
 "cells": [
  {
   "cell_type": "code",
   "execution_count": 1,
   "metadata": {},
   "outputs": [],
   "source": [
    "%load_ext autoreload\n",
    "%autoreload 2\n",
    "\n",
    "import pdfplumber\n",
    "from PIL import Image, ImageDraw\n",
    "from xyseg.document.segment import segment_pdf_page, segment_pdf_image"
   ]
  },
  {
   "cell_type": "code",
   "execution_count": 2,
   "metadata": {},
   "outputs": [],
   "source": [
    "pdf_file = \"examples/pdfs/san-jose-pd-firearm-sample.pdf\"\n",
    "\n",
    "page_idx = 0\n",
    "with pdfplumber.open(pdf_file) as pdf:\n",
    "    crops = segment_pdf_page(pdf.pages[page_idx])\n",
    "\n",
    "    im = pdf.pages[page_idx].to_image()\n",
    "    for crop in crops:\n",
    "        im.draw_rect(crop.bounding_box)\n",
    "\n",
    "    im.show()"
   ]
  },
  {
   "cell_type": "code",
   "execution_count": 6,
   "metadata": {},
   "outputs": [],
   "source": [
    "ifile = \"examples/images/dell_computer_keyboard_manual.jpg\"\n",
    "img = Image.open(ifile)\n",
    "\n",
    "draw = ImageDraw.Draw(img,  \"RGBA\")\n",
    "for crop in segment_pdf_image(img):\n",
    "    draw.rectangle(crop.bounding_box, outline=(255, 0, 0), width=3, fill=(0, 127, 255, 80))\n",
    "\n",
    "img.show()"
   ]
  },
  {
   "cell_type": "code",
   "execution_count": null,
   "metadata": {},
   "outputs": [],
   "source": []
  },
  {
   "cell_type": "markdown",
   "metadata": {},
   "source": []
  },
  {
   "cell_type": "code",
   "execution_count": null,
   "metadata": {},
   "outputs": [],
   "source": []
  }
 ],
 "metadata": {
  "kernelspec": {
   "display_name": "innovation",
   "language": "python",
   "name": "python3"
  },
  "language_info": {
   "codemirror_mode": {
    "name": "ipython",
    "version": 3
   },
   "file_extension": ".py",
   "mimetype": "text/x-python",
   "name": "python",
   "nbconvert_exporter": "python",
   "pygments_lexer": "ipython3",
   "version": "3.12.4"
  }
 },
 "nbformat": 4,
 "nbformat_minor": 2
}
