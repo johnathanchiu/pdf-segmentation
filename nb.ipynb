{
 "cells": [
  {
   "cell_type": "code",
   "execution_count": 2,
   "metadata": {},
   "outputs": [
    {
     "name": "stdout",
     "output_type": "stream",
     "text": [
      "The autoreload extension is already loaded. To reload it, use:\n",
      "  %reload_ext autoreload\n"
     ]
    }
   ],
   "source": [
    "%load_ext autoreload\n",
    "%autoreload 2\n",
    "\n",
    "from segmentor.document.segment import segment_pdf_page"
   ]
  },
  {
   "cell_type": "code",
   "execution_count": 4,
   "metadata": {},
   "outputs": [],
   "source": [
    "import pdfplumber\n",
    "import matplotlib.pyplot as plt\n",
    "\n",
    "\n",
    "page_idx = 47\n",
    "with pdfplumber.open(\"/Users/johnathanchiu/Downloads/21-11-1156.pdf\") as pdf:\n",
    "    crops = segment_pdf_page(pdf.pages[page_idx], debug=True)\n",
    "\n",
    "    im = pdf.pages[page_idx].to_image()\n",
    "    for crop in crops:\n",
    "        im.draw_rect(crop.bbox)\n",
    "\n",
    "    im.show()"
   ]
  },
  {
   "cell_type": "code",
   "execution_count": 5,
   "metadata": {},
   "outputs": [],
   "source": [
    "with pdfplumber.open(\"/Users/johnathanchiu/Downloads/background-checks.pdf\") as pdf:\n",
    "    page = pdf.pages[0]\n",
    "    im = page.to_image()\n",
    "    for obj in page.objects[\"char\"]:\n",
    "        im.draw_rect([obj[\"x0\"], obj[\"top\"], obj[\"x1\"], obj[\"bottom\"]])\n",
    "\n",
    "    im.show()"
   ]
  },
  {
   "cell_type": "code",
   "execution_count": null,
   "metadata": {},
   "outputs": [],
   "source": []
  }
 ],
 "metadata": {
  "kernelspec": {
   "display_name": "innovation",
   "language": "python",
   "name": "python3"
  },
  "language_info": {
   "codemirror_mode": {
    "name": "ipython",
    "version": 3
   },
   "file_extension": ".py",
   "mimetype": "text/x-python",
   "name": "python",
   "nbconvert_exporter": "python",
   "pygments_lexer": "ipython3",
   "version": "3.12.4"
  }
 },
 "nbformat": 4,
 "nbformat_minor": 2
}
